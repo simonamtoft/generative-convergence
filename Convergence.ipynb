{
 "cells": [
  {
   "cell_type": "markdown",
   "metadata": {},
   "source": [
    "# Setup Notebook"
   ]
  },
  {
   "cell_type": "code",
   "execution_count": 1,
   "metadata": {},
   "outputs": [],
   "source": [
    "import json\n",
    "import numpy as np\n",
    "import pandas as pd\n",
    "from glob import glob\n",
    "\n",
    "import matplotlib.pyplot as plt\n",
    "import seaborn as sns\n",
    "sns.set()"
   ]
  },
  {
   "cell_type": "code",
   "execution_count": 2,
   "metadata": {},
   "outputs": [
    {
     "name": "stdout",
     "output_type": "stream",
     "text": [
      "['./losses\\\\draw2_mnist_10.json', './losses\\\\draw3_mnist_10.json', './losses\\\\draw4_mnist_10.json', './losses\\\\draw_mnist_10.json']\n",
      "['./losses\\\\draw2_omniglot_10.json', './losses\\\\draw3_omniglot_10.json', './losses\\\\draw4_omniglot_10.json', './losses\\\\draw_omniglot_10.json']\n",
      "['./losses\\\\draw_mnist_10.json', './losses\\\\flow_mnist_10.json', './losses\\\\lvae_mnist_10.json', './losses\\\\vae_mnist_10.json']\n",
      "['./losses\\\\flow_8gaussians_10.json', './losses\\\\flow_checkerboard_10.json', './losses\\\\lvae_8gaussians_10.json', './losses\\\\lvae_checkerboard_10.json', './losses\\\\vae_8gaussians_10.json', './losses\\\\vae_checkerboard_10.json']\n"
     ]
    }
   ],
   "source": [
    "# load loss files\n",
    "loss_files = glob('./losses/*.json')\n",
    "\n",
    "# save the different loss files in the corresponding lists\n",
    "toy_losses = []\n",
    "mnist_losses = []\n",
    "draw_mnist_losses = []\n",
    "draw_omni_losses = []\n",
    "for lf in loss_files:\n",
    "    # get name of model and data\n",
    "    filename = lf.split('\\\\')[-1]\n",
    "    modelname = filename[:-14]\n",
    "    dataname = filename.split('_')[1]\n",
    "\n",
    "    # append file to list of files\n",
    "    if dataname == 'mnist':\n",
    "        if 'draw' in lf:\n",
    "            draw_mnist_losses.append(lf)\n",
    "            if modelname == 'draw':\n",
    "                mnist_losses.append(lf)\n",
    "        else:\n",
    "            mnist_losses.append(lf)\n",
    "    elif dataname == 'omniglot':\n",
    "        draw_omni_losses.append(lf)\n",
    "    else:\n",
    "        toy_losses.append(lf)\n",
    "print(draw_mnist_losses)\n",
    "print(draw_omni_losses)\n",
    "print(mnist_losses)\n",
    "print(toy_losses)"
   ]
  },
  {
   "cell_type": "markdown",
   "metadata": {},
   "source": [
    "# Define Parameter Computations\n",
    "\n",
    "Define functions to compute and visualize the different loss metrics."
   ]
  },
  {
   "cell_type": "code",
   "execution_count": 3,
   "metadata": {},
   "outputs": [],
   "source": [
    "def compute_params(loss):\n",
    "    N = loss.shape[0]\n",
    "    min_, max_, last = [], [], []\n",
    "    \n",
    "    first, exceeds = [], []\n",
    "    for i in range(N):\n",
    "        # remove nans from test loss\n",
    "        tll = loss[i]\n",
    "        tll = np.abs(tll[~np.isnan(tll)])\n",
    "\n",
    "        if len(tll):\n",
    "            min_.append(tll.min())\n",
    "            max_.append(tll.max())\n",
    "            last.append(tll[-1])\n",
    "\n",
    "            first_ = tll[:5].mean()\n",
    "            first.append(first_)\n",
    "            exceeds.append(np.sum(first_ < tll[5:]))\n",
    "    min_ = np.array(min_)\n",
    "    max_ = np.array(max_)\n",
    "    last = np.array(last)\n",
    "    first = np.array(first)\n",
    "    exceeds = np.array(exceeds)\n",
    "\n",
    "    # store parameters\n",
    "    return {\n",
    "        'min': [min_.mean(), min_.std()],\n",
    "        'max': [max_.mean(), max_.std()],\n",
    "        'last': [last.mean(), last.std()],\n",
    "        'first': [first.mean(), first.std()],\n",
    "        'exceeds': [exceeds.mean(), exceeds.std()],\n",
    "    }"
   ]
  },
  {
   "cell_type": "code",
   "execution_count": 4,
   "metadata": {},
   "outputs": [],
   "source": [
    "def get_metric_mean(metrics, keys):\n",
    "    return np.array([metrics[key][0] for key in keys])\n",
    "\n",
    "def get_metric_std(metrics, keys):\n",
    "    std = np.array([metrics[key][1] for key in keys])\n",
    "    std[np.array(keys) == 'exceeds'] = 0\n",
    "    return std"
   ]
  },
  {
   "cell_type": "code",
   "execution_count": 5,
   "metadata": {},
   "outputs": [],
   "source": [
    "def visualize_metrics(metrics, xlabels, dataname):\n",
    "    xs = np.arange(len(xlabels))\n",
    "\n",
    "    plt.figure(figsize=(9, 5))\n",
    "    n = len(metrics)\n",
    "    width = 1/(n + 1)\n",
    "    for i, model in enumerate(metrics):\n",
    "        params = get_metric_mean(metrics[model], xlabels)\n",
    "        err = get_metric_std(metrics[model], xlabels)\n",
    "        plt.bar(xs-width*(i-(n-1)/2), params, yerr=err, width=width, label=model, capsize=10)\n",
    "    plt.title(f'Loss metrics for {dataname}', fontsize=16)\n",
    "    plt.ylabel('mean over 10 runs')\n",
    "    plt.xticks(xs, xlabels, fontsize=14)\n",
    "    plt.legend()\n",
    "    plt.savefig(f'./losses/metrics_{dataname.replace(\" \", \"_\")}.png')\n",
    "    plt.show()"
   ]
  },
  {
   "cell_type": "markdown",
   "metadata": {},
   "source": [
    "## Inspect Convergence on Toy Data\n",
    "Compute metrics for the four different models on the two toy datasets `8gaussians` and `checkerboard`."
   ]
  },
  {
   "cell_type": "code",
   "execution_count": 6,
   "metadata": {},
   "outputs": [],
   "source": [
    "metrics_gauss = {}\n",
    "metrics_check = {}\n",
    "for tl in toy_losses:\n",
    "    # load loss file\n",
    "    with open(tl, 'r') as f:\n",
    "        losses = json.load(f)\n",
    "    \n",
    "    # get name of model and data\n",
    "    name = tl.split('\\\\')[-1].replace('.json', '')\n",
    "    model, dataname, _ = name.split('_')\n",
    "\n",
    "    #\n",
    "    test_loss = np.array(losses['val'])\n",
    "    params = compute_params(test_loss)\n",
    "    if dataname =='8gaussians':\n",
    "        metrics_gauss[model] = params\n",
    "    elif dataname == 'checkerboard':\n",
    "        metrics_check[model] = params"
   ]
  },
  {
   "cell_type": "code",
   "execution_count": 7,
   "metadata": {},
   "outputs": [
    {
     "data": {
      "image/png": "[encoded data removed]",
      "text/plain": [
       "<Figure size 648x360 with 1 Axes>"
      ]
     },
     "metadata": {},
     "output_type": "display_data"
    }
   ],
   "source": [
    "# Bar plot of loss metrics for checkerboard\n",
    "xlabels = ['min', 'max', 'last', 'first', 'exceeds']\n",
    "visualize_metrics(metrics_check, xlabels, 'checkerboard')"
   ]
  },
  {
   "cell_type": "code",
   "execution_count": 8,
   "metadata": {},
   "outputs": [
    {
     "data": {
      "image/png": "[encoded data removed]",
      "text/plain": [
       "<Figure size 648x360 with 1 Axes>"
      ]
     },
     "metadata": {},
     "output_type": "display_data"
    }
   ],
   "source": [
    "# Bar plot of loss metrics for 8gaussians\n",
    "xlabels = ['min', 'max', 'last', 'first', 'exceeds']\n",
    "visualize_metrics(metrics_gauss, xlabels, '8gaussians')"
   ]
  },
  {
   "cell_type": "code",
   "execution_count": 9,
   "metadata": {},
   "outputs": [
    {
     "name": "stdout",
     "output_type": "stream",
     "text": [
      "|    | model   | data         |   min |   max |   last |   first |   exceeds |\n",
      "|---:|:--------|:-------------|------:|------:|-------:|--------:|----------:|\n",
      "|  0 | flow    | 8gaussians   |  2.91 |  3.36 |   2.95 |    3.06 |       9.9 |\n",
      "|  2 | lvae    | 8gaussians   |  5.82 | 11.04 |   5.82 |    9.29 |       0   |\n",
      "|  4 | vae     | 8gaussians   |  5.82 | 16.11 |   5.82 |   10.3  |       0   |\n",
      "|  1 | flow    | checkerboard |  3.58 |  4.23 |   3.63 |    3.79 |       9.5 |\n",
      "|  3 | lvae    | checkerboard |  6.92 | 12.42 |   6.92 |   10.48 |       0   |\n",
      "|  5 | vae     | checkerboard |  6.91 | 16.86 |   6.91 |   11.52 |       0   |\n"
     ]
    }
   ],
   "source": [
    "df = pd.DataFrame()\n",
    "for tl in toy_losses:\n",
    "    with open(tl, 'r') as f:\n",
    "        losses = json.load(f)\n",
    "    \n",
    "    name = tl.split('\\\\')[-1].replace('.json', '')\n",
    "    model, dataname, _ = name.split('_')\n",
    "\n",
    "    loss = np.array(losses['val'])\n",
    "    dict_ = {\n",
    "        'model': model,\n",
    "        'data': dataname,\n",
    "    }\n",
    "    params = compute_params(loss)\n",
    "    for key in params.keys():\n",
    "        dict_[key] = params[key][0]\n",
    "    \n",
    "    df = df.append(dict_, ignore_index=True)\n",
    "df = df.sort_values('data')\n",
    "print(df.round(2).to_markdown())"
   ]
  },
  {
   "cell_type": "markdown",
   "metadata": {},
   "source": [
    "## Inspect Convergence on MNIST "
   ]
  },
  {
   "cell_type": "code",
   "execution_count": 10,
   "metadata": {},
   "outputs": [],
   "source": [
    "metrics_mnist = {}\n",
    "for tl in mnist_losses:\n",
    "    with open(tl, 'r') as f:\n",
    "        losses = json.load(f)\n",
    "    name = tl.split('\\\\')[-1].replace('.json', '')\n",
    "    model, dataname, _ = name.split('_')\n",
    "\n",
    "    #\n",
    "    test_loss = np.array(losses['val'])\n",
    "    params = compute_params(test_loss)\n",
    "    metrics_mnist[model] = params"
   ]
  },
  {
   "cell_type": "code",
   "execution_count": 11,
   "metadata": {},
   "outputs": [
    {
     "data": {
      "image/png": "[encoded data removed]",
      "text/plain": [
       "<Figure size 648x360 with 1 Axes>"
      ]
     },
     "metadata": {},
     "output_type": "display_data"
    }
   ],
   "source": [
    "# plotting options\n",
    "xlabels = ['min', 'last', 'first', 'exceeds'] #  'max', \n",
    "visualize_metrics(metrics_mnist, xlabels, 'mnist')"
   ]
  },
  {
   "cell_type": "code",
   "execution_count": 12,
   "metadata": {},
   "outputs": [
    {
     "name": "stdout",
     "output_type": "stream",
     "text": [
      "|    | model   |    min |           max |   last |   first |   exceeds |\n",
      "|---:|:--------|-------:|--------------:|-------:|--------:|----------:|\n",
      "|  0 | draw    |  86.33 | 373.11        |  86.52 |  221.09 |       0   |\n",
      "|  1 | flow    | 162.19 |   4.64727e+18 | 176.54 |  267.04 |       2.2 |\n",
      "|  2 | lvae    | 125.87 | 306.51        | 126.11 |  252.48 |       0   |\n",
      "|  3 | vae     | 124.65 | 283.04        | 125.07 |  243.93 |       0.1 |\n"
     ]
    }
   ],
   "source": [
    "# table\n",
    "df = pd.DataFrame()\n",
    "for tl in mnist_losses:\n",
    "    with open(tl, 'r') as f:\n",
    "        losses = json.load(f)\n",
    "    \n",
    "    name = tl.split('\\\\')[-1].replace('.json', '')\n",
    "    model, dataname, _ = name.split('_')\n",
    "\n",
    "    loss = np.array(losses['val'])\n",
    "    dict_ = {\n",
    "        'model': model,\n",
    "        'data': dataname,\n",
    "    }\n",
    "    params = compute_params(loss)\n",
    "    for key in params.keys():\n",
    "        dict_[key] = params[key][0]\n",
    "    \n",
    "    df = df.append(dict_, ignore_index=True)\n",
    "df.drop('data', inplace=True, axis=1)\n",
    "print(df.round(2).to_markdown())"
   ]
  },
  {
   "cell_type": "markdown",
   "metadata": {},
   "source": [
    "## Inspect Convergence for Different DRAW Models \n",
    "Inspect convergence metrics for four different DRAW implementations on the MNIST and Omniglot datasets.\n",
    "- draw: Standard DRAW implementation with the base attention module.\n",
    "- draw2: draw, but without using the error image `x_hat`\n",
    "- draw3: draw, but without iteratively updating the canvas, but instead setting `c_t = write(h_dec^t)`\n",
    "- draw4: draw, but without both without the error image and the canvas iteration updating."
   ]
  },
  {
   "cell_type": "code",
   "execution_count": 13,
   "metadata": {},
   "outputs": [],
   "source": [
    "# Compute metrics for the DRAW models trained on MNIST\n",
    "metrics_draw_mnist = {}\n",
    "for tl in draw_mnist_losses:\n",
    "    with open(tl, 'r') as f:\n",
    "        losses = json.load(f)\n",
    "    name = tl.split('\\\\')[-1].replace('.json', '')\n",
    "    model, dataname, _ = name.split('_')\n",
    "\n",
    "    test_loss = np.array(losses['val'])\n",
    "    params = compute_params(test_loss)\n",
    "    metrics_draw_mnist[model] = params\n",
    "\n",
    "# Compute metrics for the DRAW models trained on Omniglot\n",
    "metrics_draw_omni = {}\n",
    "for tl in draw_omni_losses:\n",
    "    with open(tl, 'r') as f:\n",
    "        losses = json.load(f)\n",
    "    name = tl.split('\\\\')[-1].replace('.json', '')\n",
    "    model, dataname, _ = name.split('_')\n",
    "\n",
    "    test_loss = np.array(losses['val'])\n",
    "    params = compute_params(test_loss)\n",
    "    metrics_draw_omni[model] = params"
   ]
  },
  {
   "cell_type": "code",
   "execution_count": 14,
   "metadata": {},
   "outputs": [
    {
     "data": {
      "image/png": "[encoded data removed]",
      "text/plain": [
       "<Figure size 648x360 with 1 Axes>"
      ]
     },
     "metadata": {},
     "output_type": "display_data"
    }
   ],
   "source": [
    "# Visualize loss metrics for the different draw models on MNIST\n",
    "xlabels = ['min', 'last', 'first', 'max']\n",
    "visualize_metrics(metrics_draw_mnist, xlabels, 'draw mnist')"
   ]
  },
  {
   "cell_type": "code",
   "execution_count": 15,
   "metadata": {},
   "outputs": [
    {
     "data": {
      "image/png": "[encoded data removed]",
      "text/plain": [
       "<Figure size 648x360 with 1 Axes>"
      ]
     },
     "metadata": {},
     "output_type": "display_data"
    }
   ],
   "source": [
    "# Visualize loss metrics for the different draw models on Omniglot\n",
    "xlabels = ['min', 'last', 'first', 'max']\n",
    "visualize_metrics(metrics_draw_omni, xlabels, 'draw omniglot')"
   ]
  },
  {
   "cell_type": "code",
   "execution_count": 16,
   "metadata": {},
   "outputs": [
    {
     "name": "stdout",
     "output_type": "stream",
     "text": [
      "|    | model   | data     |    min |    max |   last |   first |   exceeds |\n",
      "|---:|:--------|:---------|-------:|-------:|-------:|--------:|----------:|\n",
      "|  0 | draw2   | omniglot | 113.67 | 283.27 | 117.62 |  223.96 |         0 |\n",
      "|  1 | draw3   | omniglot | 109.56 | 213.01 | 114.96 |  180.19 |         0 |\n",
      "|  2 | draw4   | omniglot | 108.32 | 199.68 | 115.28 |  177.38 |         0 |\n",
      "|  3 | draw    | omniglot | 114.75 | 242.02 | 117.42 |  211.93 |         0 |\n",
      "|  4 | draw2   | mnist    |  86.02 | 328.89 |  86.2  |  207.49 |         0 |\n",
      "|  5 | draw3   | mnist    |  85.85 | 271.92 |  85.99 |  200.6  |         0 |\n",
      "|  6 | draw4   | mnist    |  85.67 | 262.82 |  85.79 |  193.82 |         0 |\n",
      "|  7 | draw    | mnist    |  86.33 | 373.11 |  86.52 |  221.09 |         0 |\n"
     ]
    }
   ],
   "source": [
    "# table\n",
    "df = pd.DataFrame()\n",
    "draw_losses = draw_omni_losses + draw_mnist_losses\n",
    "for tl in draw_losses:\n",
    "    with open(tl, 'r') as f:\n",
    "        losses = json.load(f)\n",
    "    \n",
    "    name = tl.split('\\\\')[-1].replace('.json', '')\n",
    "    model, dataname, _ = name.split('_')\n",
    "\n",
    "    loss = np.array(losses['val'])\n",
    "    dict_ = {\n",
    "        'model': model,\n",
    "        'data': dataname,\n",
    "    }\n",
    "    params = compute_params(loss)\n",
    "    for key in params.keys():\n",
    "        dict_[key] = params[key][0]\n",
    "    \n",
    "    df = df.append(dict_, ignore_index=True)\n",
    "# df.drop('data', inplace=True, axis=1)\n",
    "print(df.round(2).to_markdown())"
   ]
  },
  {
   "cell_type": "markdown",
   "metadata": {},
   "source": [
    "# Compute Number of Parameters\n",
    "Compute number of total parameters and trainable parameters for each model used on both MNIST and the toy data."
   ]
  },
  {
   "cell_type": "code",
   "execution_count": 17,
   "metadata": {},
   "outputs": [],
   "source": [
    "from models import DRAW, VariationalAutoencoder, LadderVAE, \\\n",
    "    Flow, AffineCouplingBijection, StandardNormal, Squeeze2d, Augment, \\\n",
    "    UniformDequantization, DenseNet, ElementwiseParams2d, \\\n",
    "    StandardUniform, Slice, ActNormBijection2d, Conv1x1, \\\n",
    "    Reverse, ElementwiseParams, ActNormBijection, \\\n",
    "    DRAW2, DRAW3, DRAW4\n",
    "    \n",
    "import torch.nn as nn"
   ]
  },
  {
   "cell_type": "code",
   "execution_count": 18,
   "metadata": {},
   "outputs": [],
   "source": [
    "def n_params(model):\n",
    "    \"\"\"Compute number of parameters in the given model\"\"\"\n",
    "    return sum([np.prod(p.size()) for p in model.parameters()])"
   ]
  },
  {
   "cell_type": "markdown",
   "metadata": {},
   "source": [
    "## Instantiate Toy Data Models\n",
    "Instantiate FLow, Ladder VAE and Standard VAE models with same dimensions as the trained models on the toy data."
   ]
  },
  {
   "cell_type": "code",
   "execution_count": 19,
   "metadata": {},
   "outputs": [],
   "source": [
    "# define config\n",
    "config = {\n",
    "    'as_beta': True\n",
    "}\n",
    "x_dim = [2, 4]"
   ]
  },
  {
   "cell_type": "code",
   "execution_count": 20,
   "metadata": {},
   "outputs": [],
   "source": [
    "# Instantiate flow model\n",
    "def net():\n",
    "    return nn.Sequential(\n",
    "        nn.Linear(1, 200), nn.ReLU(),\n",
    "        nn.Linear(200, 100), nn.ReLU(),\n",
    "        nn.Linear(100, 2), ElementwiseParams(2)\n",
    "    )\n",
    "\n",
    "model_flow_toy = Flow(\n",
    "    base_dist=StandardNormal((2,)),\n",
    "    transforms=[\n",
    "        AffineCouplingBijection(net()), ActNormBijection(2), Reverse(2),\n",
    "        AffineCouplingBijection(net()), ActNormBijection(2), Reverse(2),\n",
    "        AffineCouplingBijection(net()), ActNormBijection(2), Reverse(2),\n",
    "        AffineCouplingBijection(net()), ActNormBijection(2),\n",
    "    ]\n",
    ")"
   ]
  },
  {
   "cell_type": "code",
   "execution_count": 21,
   "metadata": {},
   "outputs": [],
   "source": [
    "# Instantiate Ladder VAE model\n",
    "config['h_dim'] = [128, 128, 128]\n",
    "config['z_dim'] = [4, 4, 4]\n",
    "model_lvae_toy = LadderVAE(config, x_dim)"
   ]
  },
  {
   "cell_type": "code",
   "execution_count": 22,
   "metadata": {},
   "outputs": [],
   "source": [
    "# Instantate Standard VAE model\n",
    "config['h_dim'] = [128, 128, 128]\n",
    "config['z_dim'] = 4\n",
    "model_vae_toy = VariationalAutoencoder(config, x_dim)"
   ]
  },
  {
   "cell_type": "markdown",
   "metadata": {},
   "source": [
    "## Instantiate MNIST Models\n",
    "Instantiate Flow, Ladder VAE, Standard VAE and DRAW models with same dimensions as the trained models on the MNIST data."
   ]
  },
  {
   "cell_type": "code",
   "execution_count": 23,
   "metadata": {},
   "outputs": [],
   "source": [
    "# define config\n",
    "config = {\n",
    "    'as_beta': True\n",
    "}\n",
    "x_shape = [28, 28]\n",
    "x_dim = x_shape[0] * x_shape[1]"
   ]
  },
  {
   "cell_type": "code",
   "execution_count": 24,
   "metadata": {},
   "outputs": [],
   "source": [
    "# Instantiate Flow model\n",
    "def net(channels):\n",
    "    return nn.Sequential(\n",
    "        DenseNet(\n",
    "            in_channels=channels//2,\n",
    "            out_channels=channels,\n",
    "            num_blocks=1,\n",
    "            mid_channels=64,\n",
    "            depth=8,\n",
    "            growth=16,\n",
    "            dropout=0.0,\n",
    "            gated_conv=True,\n",
    "            zero_init=True\n",
    "        ),\n",
    "        ElementwiseParams2d(2)\n",
    "    )\n",
    "\n",
    "model_flow = Flow(\n",
    "    base_dist=StandardNormal((8, 7, 7)),\n",
    "    transforms=[\n",
    "        UniformDequantization(num_bits=1),\n",
    "        Augment(StandardUniform((1, 28, 28)), x_size=1),\n",
    "        AffineCouplingBijection(net(2)), ActNormBijection2d(2), Conv1x1(2),\n",
    "        AffineCouplingBijection(net(2)), ActNormBijection2d(2), Conv1x1(2),\n",
    "        AffineCouplingBijection(net(2)), ActNormBijection2d(2), Conv1x1(2),\n",
    "        AffineCouplingBijection(net(2)), ActNormBijection2d(2), Conv1x1(2),\n",
    "        Squeeze2d(), Slice(StandardNormal((4, 14, 14)), num_keep=4),\n",
    "        AffineCouplingBijection(net(4)), ActNormBijection2d(4), Conv1x1(4),\n",
    "        AffineCouplingBijection(net(4)), ActNormBijection2d(4), Conv1x1(4),\n",
    "        AffineCouplingBijection(net(4)), ActNormBijection2d(4), Conv1x1(4),\n",
    "        AffineCouplingBijection(net(4)), ActNormBijection2d(4), Conv1x1(4),\n",
    "        Squeeze2d(), Slice(StandardNormal((8, 7, 7)), num_keep=8),\n",
    "        AffineCouplingBijection(net(8)), ActNormBijection2d(8), Conv1x1(8),\n",
    "        AffineCouplingBijection(net(8)), ActNormBijection2d(8), Conv1x1(8),\n",
    "        AffineCouplingBijection(net(8)), ActNormBijection2d(8), Conv1x1(8),\n",
    "        AffineCouplingBijection(net(8)), ActNormBijection2d(8), Conv1x1(8),\n",
    "    ]\n",
    ")"
   ]
  },
  {
   "cell_type": "code",
   "execution_count": 25,
   "metadata": {},
   "outputs": [],
   "source": [
    "# Instantiate Ladder VAE model\n",
    "config['h_dim'] = [512, 256, 256]\n",
    "config['z_dim'] = [64, 64, 64]\n",
    "model_lvae = LadderVAE(config, x_dim)"
   ]
  },
  {
   "cell_type": "code",
   "execution_count": 26,
   "metadata": {},
   "outputs": [],
   "source": [
    "# Instantate Standard VAE model\n",
    "config['h_dim'] = [512, 256, 128, 64]\n",
    "config['z_dim'] = 64\n",
    "model_vae = VariationalAutoencoder(config, x_dim)"
   ]
  },
  {
   "cell_type": "code",
   "execution_count": 27,
   "metadata": {},
   "outputs": [],
   "source": [
    "# Instante DRAW model (and deviations)\n",
    "config['h_dim'] = 256\n",
    "config['z_dim'] = 32\n",
    "config['T'] = 10\n",
    "config['N'] = 12\n",
    "config['attention'] = 'base'\n",
    "model_draw = DRAW(config, x_shape)\n",
    "model_draw2 = DRAW2(config, x_shape)\n",
    "model_draw3 = DRAW3(config, x_shape)\n",
    "model_draw4 = DRAW4(config, x_shape)"
   ]
  },
  {
   "cell_type": "markdown",
   "metadata": {},
   "source": [
    "## Comptue Params\n",
    "Compute and compare number of parameters for each model, both for their MNIST and toy data versions."
   ]
  },
  {
   "cell_type": "code",
   "execution_count": 28,
   "metadata": {},
   "outputs": [
    {
     "name": "stdout",
     "output_type": "stream",
     "text": [
      "Model\tMNIST\tToy\n",
      "flow\t3634680\t82824\n",
      "lvae\t1464464\t79164\n",
      "vae\t1162000\t68620\n",
      "draw\t3262304\tn/a\n",
      "draw2\t2459488\tn/a\n",
      "draw3\t3262304\tn/a\n",
      "draw4\t2459488\tn/a\n"
     ]
    }
   ],
   "source": [
    "print('Model\\tMNIST\\tToy')\n",
    "for name, model, model_toy in [\n",
    "    ('flow', model_flow, model_flow_toy), \n",
    "    ('lvae', model_lvae, model_lvae_toy), \n",
    "    ('vae', model_vae, model_vae_toy), \n",
    "    ('draw', model_draw, None),\n",
    "    ('draw2', model_draw2, None),\n",
    "    ('draw3', model_draw3, None),\n",
    "    ('draw4', model_draw4, None)\n",
    "]:\n",
    "    print_out = f'{name}\\t{n_params(model)}\\t'\n",
    "    if model_toy == None:\n",
    "        print_out += 'n/a'\n",
    "    else:\n",
    "        print_out += f'{n_params(model_toy)}'\n",
    "    print(print_out)"
   ]
  },
  {
   "cell_type": "code",
   "execution_count": null,
   "metadata": {},
   "outputs": [],
   "source": []
  }
 ],
 "metadata": {
  "interpreter": {
   "hash": "0f1f0c45c5bb6636477eba8f757920dfbb443a3850778c2819e04fa0571ca6cd"
  },
  "kernelspec": {
   "display_name": "Python 3.9.9 64-bit ('venv': venv)",
   "language": "python",
   "name": "python3"
  },
  "language_info": {
   "codemirror_mode": {
    "name": "ipython",
    "version": 3
   },
   "file_extension": ".py",
   "mimetype": "text/x-python",
   "name": "python",
   "nbconvert_exporter": "python",
   "pygments_lexer": "ipython3",
   "version": "3.9.9"
  },
  "orig_nbformat": 4
 },
 "nbformat": 4,
 "nbformat_minor": 2
}
