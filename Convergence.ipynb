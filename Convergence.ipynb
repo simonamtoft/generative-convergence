{
 "cells": [
  {
   "cell_type": "code",
   "execution_count": 10,
   "metadata": {},
   "outputs": [],
   "source": [
    "import json\n",
    "import numpy as np\n",
    "from glob import glob\n",
    "\n",
    "import matplotlib.pyplot as plt\n",
    "import seaborn as sns\n",
    "sns.set()"
   ]
  },
  {
   "cell_type": "code",
   "execution_count": 11,
   "metadata": {},
   "outputs": [
    {
     "name": "stdout",
     "output_type": "stream",
     "text": [
      "['./losses\\\\draw_mnist_10.json', './losses\\\\lvae_mnist_10.json', './losses\\\\vae_mnist_10.json']\n",
      "['./losses\\\\flow_8gaussians_10.json', './losses\\\\flow_checkerboard_10.json', './losses\\\\lvae_8gaussians_10.json', './losses\\\\vae_8gaussians_10.json', './losses\\\\vae_checkerboard_10.json']\n"
     ]
    }
   ],
   "source": [
    "# load loss files\n",
    "loss_files = glob('./losses/*.json')\n",
    "\n",
    "toy_losses = []\n",
    "mnist_losses = []\n",
    "for lf in loss_files:\n",
    "    if 'mnist' in lf:\n",
    "        mnist_losses.append(lf)\n",
    "    else:\n",
    "        toy_losses.append(lf)\n",
    "print(mnist_losses)\n",
    "print(toy_losses)"
   ]
  },
  {
   "cell_type": "code",
   "execution_count": 124,
   "metadata": {},
   "outputs": [],
   "source": [
    "def compute_params(loss):\n",
    "    N = loss.shape[0]\n",
    "    min_, max_, last = [], [], []\n",
    "    \n",
    "    # first, exceeds = [], []\n",
    "    for i in range(N):\n",
    "        # remove nans from test loss\n",
    "        tll = loss[i]\n",
    "        tll = np.abs(tll[~np.isnan(tll)])\n",
    "\n",
    "        if len(tll):\n",
    "            min_.append(tll.min())\n",
    "            max_.append(tll.max())\n",
    "            last.append(tll[-1])\n",
    "\n",
    "            # first_ = tll[:10].mean()\n",
    "            # first.append(first_)\n",
    "            # exceeds.append(np.sum(first_ > tll))\n",
    "    min_ = np.array(min_)\n",
    "    max_ = np.array(max_)\n",
    "    last = np.array(last)\n",
    "    # first = np.array(first)\n",
    "    # exceeds = np.array(exceeds)\n",
    "\n",
    "    # store parameters\n",
    "    params = [\n",
    "        min_.mean(),\n",
    "        max_.mean(),\n",
    "        last.mean(),\n",
    "        # first.mean(),\n",
    "        # exceeds.mean()\n",
    "    ]\n",
    "    return params"
   ]
  },
  {
   "cell_type": "code",
   "execution_count": 138,
   "metadata": {},
   "outputs": [],
   "source": [
    "# plotting options\n",
    "xlabels = ['min', 'max', 'last'] #, 'first', 'exceeds'\n",
    "xs = np.arange(len(xlabels))"
   ]
  },
  {
   "cell_type": "markdown",
   "metadata": {},
   "source": [
    "## Inspect Convergence on Toy Data"
   ]
  },
  {
   "cell_type": "code",
   "execution_count": 139,
   "metadata": {},
   "outputs": [],
   "source": [
    "metrics_gauss = {}\n",
    "metrics_check = {}\n",
    "for tl in toy_losses:\n",
    "    with open(tl, 'r') as f:\n",
    "        losses = json.load(f)\n",
    "    name = tl.split('\\\\')[-1].replace('.json', '')\n",
    "    model, dataname, _ = name.split('_')\n",
    "\n",
    "    #\n",
    "    test_loss = np.array(losses['val'])\n",
    "    params = compute_params(test_loss)\n",
    "    if dataname =='8gaussians':\n",
    "        metrics_gauss[model] = params\n",
    "    elif dataname == 'checkerboard':\n",
    "        metrics_check[model] = params"
   ]
  },
  {
   "cell_type": "code",
   "execution_count": 155,
   "metadata": {},
   "outputs": [
    {
     "data": {
      "image/png": "[encoded data removed]",
      "text/plain": [
       "<Figure size 648x360 with 1 Axes>"
      ]
     },
     "metadata": {},
     "output_type": "display_data"
    }
   ],
   "source": [
    "# for checkerboard\n",
    "plt.figure(figsize=(9, 5))\n",
    "width = 1/(len(metrics_check) + 1)\n",
    "for i, model in enumerate(metrics_check):\n",
    "    params = metrics_check[model]\n",
    "    plt.bar(xs-width*(i-1), params, width=width, label=model)\n",
    "plt.title('Metrics for checkerboard', fontsize=16)\n",
    "plt.xticks(xs, xlabels, fontsize=14)\n",
    "plt.legend()\n",
    "plt.show()"
   ]
  },
  {
   "cell_type": "code",
   "execution_count": 156,
   "metadata": {},
   "outputs": [
    {
     "data": {
      "image/png": "[encoded data removed]",
      "text/plain": [
       "<Figure size 648x360 with 1 Axes>"
      ]
     },
     "metadata": {},
     "output_type": "display_data"
    }
   ],
   "source": [
    "# for 8gaussians\n",
    "plt.figure(figsize=(9, 5))\n",
    "width = 1/(len(metrics_gauss) + 1)\n",
    "for i, model in enumerate(metrics_gauss):\n",
    "    params = metrics_gauss[model]\n",
    "    plt.bar(xs-width*(i-1), params, width=width, label=model)\n",
    "plt.title('Metrics for 8gaussians', fontsize=16)\n",
    "plt.xticks(xs, xlabels, fontsize=14)\n",
    "plt.legend()\n",
    "plt.show()"
   ]
  },
  {
   "cell_type": "markdown",
   "metadata": {},
   "source": [
    "## Inspect Convergence on MNIST "
   ]
  },
  {
   "cell_type": "code",
   "execution_count": 157,
   "metadata": {},
   "outputs": [],
   "source": [
    "metrics_mnist = {}\n",
    "for tl in mnist_losses:\n",
    "    with open(tl, 'r') as f:\n",
    "        losses = json.load(f)\n",
    "    name = tl.split('\\\\')[-1].replace('.json', '')\n",
    "    model, dataname, _ = name.split('_')\n",
    "\n",
    "    #\n",
    "    test_loss = np.array(losses['val'])\n",
    "    params = compute_params(test_loss)\n",
    "    metrics_mnist[model] = compute_params(test_loss)"
   ]
  },
  {
   "cell_type": "code",
   "execution_count": 158,
   "metadata": {},
   "outputs": [
    {
     "data": {
      "image/png": "[encoded data removed]",
      "text/plain": [
       "<Figure size 648x360 with 1 Axes>"
      ]
     },
     "metadata": {},
     "output_type": "display_data"
    }
   ],
   "source": [
    "# for mnist\n",
    "plt.figure(figsize=(9, 5))\n",
    "width = 1/(len(metrics_mnist) + 1)\n",
    "for i, model in enumerate(metrics_mnist):\n",
    "    params = metrics_mnist[model]\n",
    "    plt.bar(xs-width*(i-1), params, width=width, label=model)\n",
    "plt.title('Metrics for MNIST', fontsize=16)\n",
    "plt.xticks(xs, xlabels, fontsize=14)\n",
    "plt.legend()\n",
    "plt.show()"
   ]
  },
  {
   "cell_type": "code",
   "execution_count": null,
   "metadata": {},
   "outputs": [],
   "source": []
  }
 ],
 "metadata": {
  "interpreter": {
   "hash": "0f1f0c45c5bb6636477eba8f757920dfbb443a3850778c2819e04fa0571ca6cd"
  },
  "kernelspec": {
   "display_name": "Python 3.9.9 64-bit ('venv': venv)",
   "language": "python",
   "name": "python3"
  },
  "language_info": {
   "codemirror_mode": {
    "name": "ipython",
    "version": 3
   },
   "file_extension": ".py",
   "mimetype": "text/x-python",
   "name": "python",
   "nbconvert_exporter": "python",
   "pygments_lexer": "ipython3",
   "version": "3.9.9"
  },
  "orig_nbformat": 4
 },
 "nbformat": 4,
 "nbformat_minor": 2
}
